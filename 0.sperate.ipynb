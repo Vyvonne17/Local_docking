{
 "cells": [
  {
   "cell_type": "code",
   "execution_count": 27,
   "id": "b18723a6-2169-4d53-b72b-31b2183a4916",
   "metadata": {
    "tags": []
   },
   "outputs": [],
   "source": [
    "import MDAnalysis as mda\n",
    "import warnings\n",
    "warnings.filterwarnings(\"ignore\")"
   ]
  },
  {
   "cell_type": "code",
   "execution_count": 28,
   "id": "a04e19e2-568d-4a85-bc10-94d02f80d950",
   "metadata": {
    "tags": []
   },
   "outputs": [
    {
     "name": "stdout",
     "output_type": "stream",
     "text": [
      "/home/yvonne/Desktop/docking_result/5.dna_pli\n"
     ]
    }
   ],
   "source": [
    "!pwd"
   ]
  },
  {
   "cell_type": "code",
   "execution_count": 29,
   "id": "43550196-7f47-4c94-b8e0-c5e0ad885c89",
   "metadata": {
    "tags": []
   },
   "outputs": [],
   "source": [
    "root = '/home/yvonne/Desktop/docking_result/5.dna_pli'\n",
    "o_file = 'structures'"
   ]
  },
  {
   "cell_type": "code",
   "execution_count": 33,
   "id": "3f782b1a-f37d-4fd6-a68c-a8df187b2095",
   "metadata": {
    "tags": []
   },
   "outputs": [],
   "source": [
    "struc = 'guan4_pymol'\n",
    "segid = 'TRXB MGA' #TRXA MGB\n",
    "file = 'g_trxb'\n",
    "st = 'guanB'\n",
    "\n",
    "selection = f'segid {segid}'\n",
    "\n",
    "pdb_in = f'{root}/{o_file}/{struc}.pdb'\n",
    "u = mda.Universe(pdb_in)\n",
    "dna = u.select_atoms(selection)\n",
    "dna.write(f'{root}/{st}_pli/{file}.pdb')"
   ]
  },
  {
   "cell_type": "code",
   "execution_count": null,
   "id": "4cc95ac5-f04e-4439-8b50-ce01fafd010f",
   "metadata": {},
   "outputs": [],
   "source": []
  }
 ],
 "metadata": {
  "kernelspec": {
   "display_name": "Python 3",
   "language": "python",
   "name": "python3"
  },
  "language_info": {
   "codemirror_mode": {
    "name": "ipython",
    "version": 3
   },
   "file_extension": ".py",
   "mimetype": "text/x-python",
   "name": "python",
   "nbconvert_exporter": "python",
   "pygments_lexer": "ipython3",
   "version": "3.9.13"
  }
 },
 "nbformat": 4,
 "nbformat_minor": 5
}
