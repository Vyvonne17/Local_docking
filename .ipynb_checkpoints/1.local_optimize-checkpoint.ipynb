{
 "cells": [
  {
   "cell_type": "code",
   "execution_count": 161,
   "id": "1840a66f-37c2-4c92-8ef5-0cb9b5762a12",
   "metadata": {
    "tags": []
   },
   "outputs": [],
   "source": [
    "from vina import Vina"
   ]
  },
  {
   "cell_type": "code",
   "execution_count": 162,
   "id": "b92c76c1-d8ec-4ec8-9fe2-b26de6dcd044",
   "metadata": {
    "tags": []
   },
   "outputs": [
    {
     "name": "stdin",
     "output_type": "stream",
     "text": [
      " guanB\n"
     ]
    }
   ],
   "source": [
    "#input frame name\n",
    "frame_n = input()\n",
    "root_folder = \"/home/yvonne/Desktop/docking_result/5.dna_pli\""
   ]
  },
  {
   "cell_type": "code",
   "execution_count": 163,
   "id": "e9e8d462-b400-43ea-9cf5-32eb4270cdf7",
   "metadata": {
    "tags": []
   },
   "outputs": [
    {
     "name": "stdin",
     "output_type": "stream",
     "text": [
      " g_trxb\n",
      " g_dnaa\n"
     ]
    }
   ],
   "source": [
    "pro_name = input()\n",
    "lig_name = input()"
   ]
  },
  {
   "cell_type": "code",
   "execution_count": 164,
   "id": "412a3b46-87f6-40f8-b31d-716e7b2dbc01",
   "metadata": {
    "tags": []
   },
   "outputs": [],
   "source": [
    "v = Vina(sf_name='vina')\n",
    "\n",
    "v.set_receptor(f\"{root_folder}/{frame_n}_pli/\" + f\"{pro_name}.pdbqt\") "
   ]
  },
  {
   "cell_type": "code",
   "execution_count": 165,
   "id": "244876b9-f031-416b-a084-dbe27dce844f",
   "metadata": {
    "tags": []
   },
   "outputs": [],
   "source": [
    "v.set_ligand_from_file(f\"{root_folder}/{frame_n}_pli/\" + f\"{lig_name}.pdbqt\") "
   ]
  },
  {
   "cell_type": "code",
   "execution_count": 166,
   "id": "1663b2d4-c260-425d-a293-d68d7b57d15c",
   "metadata": {
    "tags": []
   },
   "outputs": [],
   "source": [
    "v.compute_vina_maps(center=[80, 68, 50], box_size=[40, 40, 40]) #trxa: center=[73.5, 98.49, 31.8]   trxb: 80, 68, 50"
   ]
  },
  {
   "cell_type": "code",
   "execution_count": 168,
   "id": "1d51cbd8-7260-4b3a-b2d6-4eef59ed86f2",
   "metadata": {
    "tags": []
   },
   "outputs": [
    {
     "name": "stdout",
     "output_type": "stream",
     "text": [
      "Score before minimization: -3.407 (kcal/mol)\n"
     ]
    }
   ],
   "source": [
    "# Score the current pose\n",
    "energy = v.score()\n",
    "print('Score before minimization: %.3f (kcal/mol)' % energy[0])"
   ]
  },
  {
   "cell_type": "code",
   "execution_count": 169,
   "id": "0cc76586-989c-49d2-a46f-28c37f04d61a",
   "metadata": {
    "tags": []
   },
   "outputs": [
    {
     "name": "stdout",
     "output_type": "stream",
     "text": [
      "Score after minimization : -4.407 (kcal/mol)\n"
     ]
    }
   ],
   "source": [
    "# Minimized locally the current pose\n",
    "energy_minimized = v.optimize(5)\n",
    "print('Score after minimization : %.3f (kcal/mol)' % energy_minimized[0])\n",
    "# v.write_pose(f'{root_folder}/{frame_n}_pli/{lig_name}_minimize.pdbqt', overwrite=True)\n",
    "\n",
    "# # Dock the ligand\n",
    "# v.dock(exhaustiveness=32, n_poses=20)\n",
    "# v.write_poses('1iep_ligand_vina_out.pdbqt', n_poses=5, overwrite=True)"
   ]
  },
  {
   "cell_type": "markdown",
   "id": "817cf2ba-7e10-44c6-9a02-31a16acdb0fe",
   "metadata": {
    "tags": []
   },
   "source": [
    "## convert pdb to sdf"
   ]
  },
  {
   "cell_type": "code",
   "execution_count": null,
   "id": "f5ac4ab8-eb98-4b7f-a3c8-247e3182913c",
   "metadata": {},
   "outputs": [],
   "source": [
    "# use openbible\n",
    "ligand = input()\n",
    "! obabel f'{ligand}.pdb' -O f'{ligand}.sdf'"
   ]
  },
  {
   "cell_type": "code",
   "execution_count": 78,
   "id": "2ad64f49-23be-415a-a638-d6576a5be719",
   "metadata": {
    "tags": []
   },
   "outputs": [],
   "source": [
    "from openbabel import pybel"
   ]
  },
  {
   "cell_type": "code",
   "execution_count": 79,
   "id": "779b4fb8-a87b-4775-a9cb-9a9a54356c8d",
   "metadata": {
    "tags": []
   },
   "outputs": [],
   "source": [
    "# Load the Vina PDBQT file\n",
    "molecules = pybel.readfile(\"pdbqt\", f\"{root_folder}/{frame_n}_pli/{lig_name}_minimize.pdbqt\")"
   ]
  },
  {
   "cell_type": "code",
   "execution_count": 80,
   "id": "dddce204-0785-4c9d-a71e-5a59f675c8c0",
   "metadata": {
    "tags": []
   },
   "outputs": [],
   "source": [
    "output_file = f\"{root_folder}/{frame_n}_pli/{lig_name}_minimize.sdf\"\n",
    "with open(output_file, \"w\") as f:\n",
    "    for molecule in molecules:\n",
    "        f.write(molecule.write(\"sdf\"))"
   ]
  },
  {
   "cell_type": "markdown",
   "id": "3c2b5c74-c963-49ca-a954-2c9cc59ddbe8",
   "metadata": {},
   "source": [
    "#### 注意更改sdf第一行的名字 defalt 出來不知為何是路徑 會是PLI裡面ID名字 改掉PLI才不會出錯！！！"
   ]
  },
  {
   "cell_type": "code",
   "execution_count": null,
   "id": "ece9d618-0ccb-4bb2-8dea-2531d51d19f0",
   "metadata": {},
   "outputs": [],
   "source": []
  },
  {
   "cell_type": "markdown",
   "id": "d0c78a66-a8e7-4d7d-a430-6f0acb36c419",
   "metadata": {},
   "source": [
    "### 有一顆氫原子會飛掉不要加"
   ]
  },
  {
   "cell_type": "markdown",
   "id": "2c28a568-ee8e-4e6c-823c-3d1c80c4f246",
   "metadata": {
    "jp-MarkdownHeadingCollapsed": true,
    "tags": []
   },
   "source": [
    "## assign hydrogen to ligand sdf"
   ]
  },
  {
   "cell_type": "code",
   "execution_count": 81,
   "id": "6babe3dd-dc12-4e96-ae44-dbd841b1e8c2",
   "metadata": {
    "tags": []
   },
   "outputs": [],
   "source": [
    "from rdkit import Chem"
   ]
  },
  {
   "cell_type": "code",
   "execution_count": 82,
   "id": "aba17984-e431-4b6d-9b4c-d5db292e80bf",
   "metadata": {
    "tags": []
   },
   "outputs": [],
   "source": [
    "fn = \"guanB\"\n",
    "ln = \"g_dnaa\""
   ]
  },
  {
   "cell_type": "code",
   "execution_count": 83,
   "id": "ea9501bd-b4e7-4309-ab8a-418738cb8534",
   "metadata": {
    "tags": []
   },
   "outputs": [],
   "source": [
    "# Load ligand from a file\n",
    "ligand_file = f\"{root_folder}/{fn}_pli/{ln}_minimize.sdf\"\n",
    "ligand = Chem.SDMolSupplier(ligand_file)[0]\n",
    "\n",
    "# Add hydrogen atoms\n",
    "ligand = Chem.AddHs(ligand)"
   ]
  },
  {
   "cell_type": "code",
   "execution_count": 84,
   "id": "8e8e5673-e68a-448a-8845-4049fb55aaf2",
   "metadata": {
    "tags": []
   },
   "outputs": [],
   "source": [
    "# Write out the ligand with assigned hydrogen atoms as an SDF file\n",
    "output_file = f\"{root_folder}/{fn}_pli/{ln}_min_addh.sdf\"\n",
    "w = Chem.SDWriter(output_file)\n",
    "w.write(ligand)\n",
    "w.close()"
   ]
  },
  {
   "cell_type": "code",
   "execution_count": null,
   "id": "237ae2db-4652-4a7d-9075-925c6b697a59",
   "metadata": {},
   "outputs": [],
   "source": []
  }
 ],
 "metadata": {
  "kernelspec": {
   "display_name": "Python 3",
   "language": "python",
   "name": "python3"
  },
  "language_info": {
   "codemirror_mode": {
    "name": "ipython",
    "version": 3
   },
   "file_extension": ".py",
   "mimetype": "text/x-python",
   "name": "python",
   "nbconvert_exporter": "python",
   "pygments_lexer": "ipython3",
   "version": "3.9.13"
  }
 },
 "nbformat": 4,
 "nbformat_minor": 5
}
