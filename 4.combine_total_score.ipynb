{
 "cells": [
  {
   "cell_type": "code",
   "execution_count": 2,
   "id": "91ef0192-f4e0-4388-bd4f-79e3f0188c51",
   "metadata": {
    "tags": []
   },
   "outputs": [
    {
     "name": "stderr",
     "output_type": "stream",
     "text": [
      "/home/yvonne/miniconda3/envs/edaf/lib/python3.9/site-packages/scipy/__init__.py:146: UserWarning: A NumPy version >=1.16.5 and <1.23.0 is required for this version of SciPy (detected version 1.23.1\n",
      "  warnings.warn(f\"A NumPy version >={np_minversion} and <{np_maxversion}\"\n"
     ]
    }
   ],
   "source": [
    "import os.path\n",
    "import glob\n",
    "import pandas as pd\n",
    "import numpy as np\n",
    "import seaborn as sns\n",
    "import matplotlib.pyplot as plt"
   ]
  },
  {
   "cell_type": "code",
   "execution_count": 3,
   "id": "35746ee9-3d64-4cee-bd0c-cd24564274a8",
   "metadata": {
    "tags": []
   },
   "outputs": [
    {
     "name": "stdout",
     "output_type": "stream",
     "text": [
      "/home/yvonne/Desktop/docking_result/5.dna_pli\n"
     ]
    }
   ],
   "source": [
    "!pwd"
   ]
  },
  {
   "cell_type": "code",
   "execution_count": 4,
   "id": "7a1f032c-279b-4953-abf1-3f7673145a31",
   "metadata": {
    "tags": []
   },
   "outputs": [],
   "source": [
    "root_folder = \"/home/yvonne/Desktop/docking_result/5.dna_pli/\"\n",
    "fig_root = '/home/yvonne/Desktop/docking_result/mdanalysis/All_figures/'\n",
    "csv_files = glob.glob(root_folder + '*.csv')"
   ]
  },
  {
   "cell_type": "code",
   "execution_count": 5,
   "id": "dcb75bd9-3862-4afc-8a5b-4f3bd09758a6",
   "metadata": {
    "tags": []
   },
   "outputs": [
    {
     "data": {
      "text/plain": [
       "['/home/yvonne/Desktop/docking_result/5.dna_pli/h5_guanA.csv',\n",
       " '/home/yvonne/Desktop/docking_result/5.dna_pli/h5_hybrid.csv']"
      ]
     },
     "execution_count": 5,
     "metadata": {},
     "output_type": "execute_result"
    }
   ],
   "source": [
    "csv_files"
   ]
  },
  {
   "cell_type": "code",
   "execution_count": 6,
   "id": "37d34aa3-effb-4af4-8cc8-66ec351ef096",
   "metadata": {
    "tags": []
   },
   "outputs": [
    {
     "data": {
      "text/html": [
       "<div>\n",
       "<style scoped>\n",
       "    .dataframe tbody tr th:only-of-type {\n",
       "        vertical-align: middle;\n",
       "    }\n",
       "\n",
       "    .dataframe tbody tr th {\n",
       "        vertical-align: top;\n",
       "    }\n",
       "\n",
       "    .dataframe thead th {\n",
       "        text-align: right;\n",
       "    }\n",
       "</style>\n",
       "<table border=\"1\" class=\"dataframe\">\n",
       "  <thead>\n",
       "    <tr style=\"text-align: right;\">\n",
       "      <th></th>\n",
       "      <th>resname</th>\n",
       "      <th>g_dnab.pdb,1</th>\n",
       "      <th>h_dnaa.pdb,1</th>\n",
       "    </tr>\n",
       "  </thead>\n",
       "  <tbody>\n",
       "    <tr>\n",
       "      <th>0</th>\n",
       "      <td>MGB/1/MG</td>\n",
       "      <td>-0.229479</td>\n",
       "      <td>NaN</td>\n",
       "    </tr>\n",
       "    <tr>\n",
       "      <th>1</th>\n",
       "      <td>MGB/2/MG</td>\n",
       "      <td>0.351932</td>\n",
       "      <td>NaN</td>\n",
       "    </tr>\n",
       "    <tr>\n",
       "      <th>2</th>\n",
       "      <td>TRXA/1/MET</td>\n",
       "      <td>0.000000</td>\n",
       "      <td>0.000000</td>\n",
       "    </tr>\n",
       "    <tr>\n",
       "      <th>3</th>\n",
       "      <td>TRXA/2/SER</td>\n",
       "      <td>0.000000</td>\n",
       "      <td>0.000000</td>\n",
       "    </tr>\n",
       "    <tr>\n",
       "      <th>4</th>\n",
       "      <td>TRXA/3/GLU</td>\n",
       "      <td>0.000000</td>\n",
       "      <td>0.000000</td>\n",
       "    </tr>\n",
       "    <tr>\n",
       "      <th>...</th>\n",
       "      <td>...</td>\n",
       "      <td>...</td>\n",
       "      <td>...</td>\n",
       "    </tr>\n",
       "    <tr>\n",
       "      <th>235</th>\n",
       "      <td>TRXA/234/LEU</td>\n",
       "      <td>0.000000</td>\n",
       "      <td>0.000000</td>\n",
       "    </tr>\n",
       "    <tr>\n",
       "      <th>236</th>\n",
       "      <td>TRXA/235/GLU</td>\n",
       "      <td>0.000000</td>\n",
       "      <td>0.000000</td>\n",
       "    </tr>\n",
       "    <tr>\n",
       "      <th>237</th>\n",
       "      <td>TRXA/236/ALA</td>\n",
       "      <td>0.000000</td>\n",
       "      <td>0.000000</td>\n",
       "    </tr>\n",
       "    <tr>\n",
       "      <th>238</th>\n",
       "      <td>MGA/1/MG</td>\n",
       "      <td>NaN</td>\n",
       "      <td>-0.116048</td>\n",
       "    </tr>\n",
       "    <tr>\n",
       "      <th>239</th>\n",
       "      <td>MGA/2/MG</td>\n",
       "      <td>NaN</td>\n",
       "      <td>0.349019</td>\n",
       "    </tr>\n",
       "  </tbody>\n",
       "</table>\n",
       "<p>240 rows × 3 columns</p>\n",
       "</div>"
      ],
      "text/plain": [
       "          resname  g_dnab.pdb,1  h_dnaa.pdb,1\n",
       "0        MGB/1/MG     -0.229479           NaN\n",
       "1        MGB/2/MG      0.351932           NaN\n",
       "2      TRXA/1/MET      0.000000      0.000000\n",
       "3      TRXA/2/SER      0.000000      0.000000\n",
       "4      TRXA/3/GLU      0.000000      0.000000\n",
       "..            ...           ...           ...\n",
       "235  TRXA/234/LEU      0.000000      0.000000\n",
       "236  TRXA/235/GLU      0.000000      0.000000\n",
       "237  TRXA/236/ALA      0.000000      0.000000\n",
       "238      MGA/1/MG           NaN     -0.116048\n",
       "239      MGA/2/MG           NaN      0.349019\n",
       "\n",
       "[240 rows x 3 columns]"
      ]
     },
     "execution_count": 6,
     "metadata": {},
     "output_type": "execute_result"
    }
   ],
   "source": [
    "# Create an empty list to store the dataframes\n",
    "dfs = []\n",
    "\n",
    "# Load and append each CSV file to the list of dataframes\n",
    "for file in csv_files:\n",
    "    df = pd.read_csv(file)\n",
    "    dfs.append(df)\n",
    "\n",
    "# Merge the dataframes based on \"resname\"\n",
    "merged_df = pd.merge(dfs[0], dfs[1], on=\"resname\", how=\"outer\")\n",
    "\n",
    "# Merge additional dataframes if present\n",
    "if len(dfs) > 2:\n",
    "    for i in range(2, len(dfs)):\n",
    "        merged_df = pd.merge(merged_df, dfs[i], on=\"resname\", how=\"outer\")\n",
    "\n",
    "merged_df\n"
   ]
  },
  {
   "cell_type": "code",
   "execution_count": 7,
   "id": "badba6a6-cffd-4a41-b9f1-f41341092b99",
   "metadata": {
    "tags": []
   },
   "outputs": [],
   "source": [
    "merged_df.fillna(0, inplace=True)\n",
    "\n"
   ]
  },
  {
   "cell_type": "code",
   "execution_count": 11,
   "id": "a3d4644e-606c-4cbf-b558-508a9d7d13ba",
   "metadata": {
    "tags": []
   },
   "outputs": [
    {
     "data": {
      "text/html": [
       "<div>\n",
       "<style scoped>\n",
       "    .dataframe tbody tr th:only-of-type {\n",
       "        vertical-align: middle;\n",
       "    }\n",
       "\n",
       "    .dataframe tbody tr th {\n",
       "        vertical-align: top;\n",
       "    }\n",
       "\n",
       "    .dataframe thead th {\n",
       "        text-align: right;\n",
       "    }\n",
       "</style>\n",
       "<table border=\"1\" class=\"dataframe\">\n",
       "  <thead>\n",
       "    <tr style=\"text-align: right;\">\n",
       "      <th></th>\n",
       "      <th>g_dnab.pdb,1</th>\n",
       "      <th>h_dnaa.pdb,1</th>\n",
       "    </tr>\n",
       "    <tr>\n",
       "      <th>resname</th>\n",
       "      <th></th>\n",
       "      <th></th>\n",
       "    </tr>\n",
       "  </thead>\n",
       "  <tbody>\n",
       "    <tr>\n",
       "      <th>MGB/1/MG</th>\n",
       "      <td>-0.229479</td>\n",
       "      <td>0.000000</td>\n",
       "    </tr>\n",
       "    <tr>\n",
       "      <th>MGB/2/MG</th>\n",
       "      <td>0.351932</td>\n",
       "      <td>0.000000</td>\n",
       "    </tr>\n",
       "    <tr>\n",
       "      <th>TRXA/1/MET</th>\n",
       "      <td>0.000000</td>\n",
       "      <td>0.000000</td>\n",
       "    </tr>\n",
       "    <tr>\n",
       "      <th>TRXA/2/SER</th>\n",
       "      <td>0.000000</td>\n",
       "      <td>0.000000</td>\n",
       "    </tr>\n",
       "    <tr>\n",
       "      <th>TRXA/3/GLU</th>\n",
       "      <td>0.000000</td>\n",
       "      <td>0.000000</td>\n",
       "    </tr>\n",
       "    <tr>\n",
       "      <th>...</th>\n",
       "      <td>...</td>\n",
       "      <td>...</td>\n",
       "    </tr>\n",
       "    <tr>\n",
       "      <th>TRXA/234/LEU</th>\n",
       "      <td>0.000000</td>\n",
       "      <td>0.000000</td>\n",
       "    </tr>\n",
       "    <tr>\n",
       "      <th>TRXA/235/GLU</th>\n",
       "      <td>0.000000</td>\n",
       "      <td>0.000000</td>\n",
       "    </tr>\n",
       "    <tr>\n",
       "      <th>TRXA/236/ALA</th>\n",
       "      <td>0.000000</td>\n",
       "      <td>0.000000</td>\n",
       "    </tr>\n",
       "    <tr>\n",
       "      <th>MGA/1/MG</th>\n",
       "      <td>0.000000</td>\n",
       "      <td>-0.116048</td>\n",
       "    </tr>\n",
       "    <tr>\n",
       "      <th>MGA/2/MG</th>\n",
       "      <td>0.000000</td>\n",
       "      <td>0.349019</td>\n",
       "    </tr>\n",
       "  </tbody>\n",
       "</table>\n",
       "<p>240 rows × 2 columns</p>\n",
       "</div>"
      ],
      "text/plain": [
       "              g_dnab.pdb,1  h_dnaa.pdb,1\n",
       "resname                                 \n",
       "MGB/1/MG         -0.229479      0.000000\n",
       "MGB/2/MG          0.351932      0.000000\n",
       "TRXA/1/MET        0.000000      0.000000\n",
       "TRXA/2/SER        0.000000      0.000000\n",
       "TRXA/3/GLU        0.000000      0.000000\n",
       "...                    ...           ...\n",
       "TRXA/234/LEU      0.000000      0.000000\n",
       "TRXA/235/GLU      0.000000      0.000000\n",
       "TRXA/236/ALA      0.000000      0.000000\n",
       "MGA/1/MG          0.000000     -0.116048\n",
       "MGA/2/MG          0.000000      0.349019\n",
       "\n",
       "[240 rows x 2 columns]"
      ]
     },
     "execution_count": 11,
     "metadata": {},
     "output_type": "execute_result"
    }
   ],
   "source": [
    "combine_df = merged_df.set_index(merged_df.columns[0])\n",
    "combine_df"
   ]
  },
  {
   "cell_type": "code",
   "execution_count": 12,
   "id": "a4290cb7-14a3-4feb-9a7f-4dbd76d95053",
   "metadata": {
    "tags": []
   },
   "outputs": [
    {
     "data": {
      "text/html": [
       "<div>\n",
       "<style scoped>\n",
       "    .dataframe tbody tr th:only-of-type {\n",
       "        vertical-align: middle;\n",
       "    }\n",
       "\n",
       "    .dataframe tbody tr th {\n",
       "        vertical-align: top;\n",
       "    }\n",
       "\n",
       "    .dataframe thead th {\n",
       "        text-align: right;\n",
       "    }\n",
       "</style>\n",
       "<table border=\"1\" class=\"dataframe\">\n",
       "  <thead>\n",
       "    <tr style=\"text-align: right;\">\n",
       "      <th></th>\n",
       "      <th>g_dnab.pdb,1</th>\n",
       "      <th>h_dnaa.pdb,1</th>\n",
       "    </tr>\n",
       "    <tr>\n",
       "      <th>resname</th>\n",
       "      <th></th>\n",
       "      <th></th>\n",
       "    </tr>\n",
       "  </thead>\n",
       "  <tbody>\n",
       "    <tr>\n",
       "      <th>MGB/1/MG</th>\n",
       "      <td>-0.229479</td>\n",
       "      <td>0.000000</td>\n",
       "    </tr>\n",
       "    <tr>\n",
       "      <th>MGB/2/MG</th>\n",
       "      <td>0.351932</td>\n",
       "      <td>0.000000</td>\n",
       "    </tr>\n",
       "    <tr>\n",
       "      <th>TRXA/13/LEU</th>\n",
       "      <td>-0.024383</td>\n",
       "      <td>-0.015704</td>\n",
       "    </tr>\n",
       "    <tr>\n",
       "      <th>TRXA/14/ASP</th>\n",
       "      <td>0.632537</td>\n",
       "      <td>0.285408</td>\n",
       "    </tr>\n",
       "    <tr>\n",
       "      <th>TRXA/15/LEU</th>\n",
       "      <td>-0.473132</td>\n",
       "      <td>-0.237142</td>\n",
       "    </tr>\n",
       "    <tr>\n",
       "      <th>...</th>\n",
       "      <td>...</td>\n",
       "      <td>...</td>\n",
       "    </tr>\n",
       "    <tr>\n",
       "      <th>TRXA/196/THR</th>\n",
       "      <td>-0.006551</td>\n",
       "      <td>0.000000</td>\n",
       "    </tr>\n",
       "    <tr>\n",
       "      <th>TRXA/197/LEU</th>\n",
       "      <td>-0.003439</td>\n",
       "      <td>0.000000</td>\n",
       "    </tr>\n",
       "    <tr>\n",
       "      <th>TRXA/225/MET</th>\n",
       "      <td>-0.013465</td>\n",
       "      <td>-0.013090</td>\n",
       "    </tr>\n",
       "    <tr>\n",
       "      <th>MGA/1/MG</th>\n",
       "      <td>0.000000</td>\n",
       "      <td>-0.116048</td>\n",
       "    </tr>\n",
       "    <tr>\n",
       "      <th>MGA/2/MG</th>\n",
       "      <td>0.000000</td>\n",
       "      <td>0.349019</td>\n",
       "    </tr>\n",
       "  </tbody>\n",
       "</table>\n",
       "<p>62 rows × 2 columns</p>\n",
       "</div>"
      ],
      "text/plain": [
       "              g_dnab.pdb,1  h_dnaa.pdb,1\n",
       "resname                                 \n",
       "MGB/1/MG         -0.229479      0.000000\n",
       "MGB/2/MG          0.351932      0.000000\n",
       "TRXA/13/LEU      -0.024383     -0.015704\n",
       "TRXA/14/ASP       0.632537      0.285408\n",
       "TRXA/15/LEU      -0.473132     -0.237142\n",
       "...                    ...           ...\n",
       "TRXA/196/THR     -0.006551      0.000000\n",
       "TRXA/197/LEU     -0.003439      0.000000\n",
       "TRXA/225/MET     -0.013465     -0.013090\n",
       "MGA/1/MG          0.000000     -0.116048\n",
       "MGA/2/MG          0.000000      0.349019\n",
       "\n",
       "[62 rows x 2 columns]"
      ]
     },
     "execution_count": 12,
     "metadata": {},
     "output_type": "execute_result"
    }
   ],
   "source": [
    "zero = combine_df.loc[(combine_df !=0).any(1)]\n",
    "zero"
   ]
  },
  {
   "cell_type": "code",
   "execution_count": 13,
   "id": "37ec528d-d44f-4ebc-a193-34d3f43339b9",
   "metadata": {
    "tags": []
   },
   "outputs": [
    {
     "data": {
      "image/png": "[encoded data removed]",
      "text/plain": [
       "<Figure size 504x288 with 1 Axes>"
      ]
     },
     "metadata": {
      "needs_background": "light"
     },
     "output_type": "display_data"
    }
   ],
   "source": [
    "fz = 7\n",
    "fig, ax = plt.subplots(figsize=(7,4))\n",
    "plt.plot(zero['h_dnaa.pdb,1'], label='TREX2-DNA', color='#19A7CE', marker='.', alpha=0.4)\n",
    "\n",
    "ax.set_xlabel(\"Residues\", fontsize = 10)\n",
    "ax.set_ylabel(\"Vina Score (kcal/mol)\", fontsize = 10)\n",
    "ax.axhline(0.0, color='k', linestyle='dashed', linewidth=0.5)\n",
    "plt.xticks(rotation=90, fontsize = fz)\n",
    "plt.legend(loc = 4, fontsize = 10, fancybox = False, frameon = False)\n",
    "# ax.grid(axis='x')\n",
    "plt.xlim(\"MGB/1/MG\",\"MGA/2/MG\")\n",
    "\n",
    "plt.tight_layout()   \n",
    "plt.savefig(f\"{fig_root}hybrid.png\", dpi = 300, bbox_inches='tight')\n",
    "plt.show()\n"
   ]
  },
  {
   "cell_type": "code",
   "execution_count": 83,
   "id": "44b600ff-1ba9-4b26-90cc-c8e257eb5eef",
   "metadata": {
    "tags": []
   },
   "outputs": [
    {
     "data": {
      "image/png": "[encoded data removed]",
      "text/plain": [
       "<Figure size 504x288 with 1 Axes>"
      ]
     },
     "metadata": {
      "needs_background": "light"
     },
     "output_type": "display_data"
    }
   ],
   "source": [
    "fz = 7\n",
    "fig, ax = plt.subplots(figsize=(7,4))\n",
    "\n",
    "color_map = ['#AA77FF','#19A7CE'] # 'orange'\n",
    "names = ['TREX2_GCAG1', 'TREX2_GCAG2']\n",
    "\n",
    "# Reverse the order of columns in df_zeroless\n",
    "# reversed_columns = zero.columns[::-1]\n",
    "\n",
    "for i, col in enumerate(zero.columns):\n",
    "    name = names[i % len(names)]\n",
    "    color = color_map[i % len(color_map)] \n",
    "    plt.plot(zero[col], label=name, color=color, marker='.', alpha=0.4)#marker = 'h'\n",
    "\n",
    "ax.set_xlabel(\"Residues\", fontsize = 10)\n",
    "ax.set_ylabel(\"Vina Score (kcal/mol)\", fontsize = 10)\n",
    "ax.axhline(0.0, color='k', linestyle='dashed', linewidth=0.5)\n",
    "plt.xticks(rotation=90, fontsize = fz)\n",
    "plt.legend(loc = 4, fontsize = 10, fancybox = False, frameon = False)\n",
    "# ax.grid(axis='x')\n",
    "plt.xlim(\"MGB/1/MG\",\"MGA/2/MG\")\n",
    "\n",
    "# Set the y-axis ticks every -0.2 starting from 0 to -2.0\n",
    "# ticks = np.arange(0, -2.2, -0.25)\n",
    "# ax.set_yticks(ticks)\n",
    "\n",
    "# Format the y-axis tick labels as strings\n",
    "# ticklabels = [str(f'{tick:.2f}') for tick in ticks]\n",
    "# ax.set_yticklabels(ticklabels)\n",
    "\n",
    "plt.tight_layout()   \n",
    "plt.savefig(f\"{fig_root}dna_compare.png\", dpi = 300, bbox_inches='tight')\n",
    "plt.show()\n",
    "\n"
   ]
  },
  {
   "cell_type": "code",
   "execution_count": 14,
   "id": "6506f7a4-00e6-4dd0-9a72-bad602c03570",
   "metadata": {
    "tags": []
   },
   "outputs": [
    {
     "data": {
      "text/html": [
       "<div>\n",
       "<style scoped>\n",
       "    .dataframe tbody tr th:only-of-type {\n",
       "        vertical-align: middle;\n",
       "    }\n",
       "\n",
       "    .dataframe tbody tr th {\n",
       "        vertical-align: top;\n",
       "    }\n",
       "\n",
       "    .dataframe thead th {\n",
       "        text-align: right;\n",
       "    }\n",
       "</style>\n",
       "<table border=\"1\" class=\"dataframe\">\n",
       "  <thead>\n",
       "    <tr style=\"text-align: right;\">\n",
       "      <th></th>\n",
       "      <th>resname</th>\n",
       "      <th>g_dnab.pdb,1</th>\n",
       "      <th>resname</th>\n",
       "      <th>h_dnaa.pdb,1</th>\n",
       "    </tr>\n",
       "  </thead>\n",
       "  <tbody>\n",
       "    <tr>\n",
       "      <th>0</th>\n",
       "      <td>MGB/1/MG</td>\n",
       "      <td>-0.229479</td>\n",
       "      <td>TRXA/1/MET</td>\n",
       "      <td>0.000000</td>\n",
       "    </tr>\n",
       "    <tr>\n",
       "      <th>1</th>\n",
       "      <td>MGB/2/MG</td>\n",
       "      <td>0.351932</td>\n",
       "      <td>TRXA/2/SER</td>\n",
       "      <td>0.000000</td>\n",
       "    </tr>\n",
       "    <tr>\n",
       "      <th>2</th>\n",
       "      <td>TRXA/1/MET</td>\n",
       "      <td>0.000000</td>\n",
       "      <td>TRXA/3/GLU</td>\n",
       "      <td>0.000000</td>\n",
       "    </tr>\n",
       "    <tr>\n",
       "      <th>3</th>\n",
       "      <td>TRXA/2/SER</td>\n",
       "      <td>0.000000</td>\n",
       "      <td>TRXA/4/PRO</td>\n",
       "      <td>0.000000</td>\n",
       "    </tr>\n",
       "    <tr>\n",
       "      <th>4</th>\n",
       "      <td>TRXA/3/GLU</td>\n",
       "      <td>0.000000</td>\n",
       "      <td>TRXA/5/PRO</td>\n",
       "      <td>0.000000</td>\n",
       "    </tr>\n",
       "    <tr>\n",
       "      <th>...</th>\n",
       "      <td>...</td>\n",
       "      <td>...</td>\n",
       "      <td>...</td>\n",
       "      <td>...</td>\n",
       "    </tr>\n",
       "    <tr>\n",
       "      <th>233</th>\n",
       "      <td>TRXA/232/PRO</td>\n",
       "      <td>0.000000</td>\n",
       "      <td>TRXA/234/LEU</td>\n",
       "      <td>0.000000</td>\n",
       "    </tr>\n",
       "    <tr>\n",
       "      <th>234</th>\n",
       "      <td>TRXA/233/SER</td>\n",
       "      <td>0.000000</td>\n",
       "      <td>TRXA/235/GLU</td>\n",
       "      <td>0.000000</td>\n",
       "    </tr>\n",
       "    <tr>\n",
       "      <th>235</th>\n",
       "      <td>TRXA/234/LEU</td>\n",
       "      <td>0.000000</td>\n",
       "      <td>TRXA/236/ALA</td>\n",
       "      <td>0.000000</td>\n",
       "    </tr>\n",
       "    <tr>\n",
       "      <th>236</th>\n",
       "      <td>TRXA/235/GLU</td>\n",
       "      <td>0.000000</td>\n",
       "      <td>MGA/1/MG</td>\n",
       "      <td>-0.116048</td>\n",
       "    </tr>\n",
       "    <tr>\n",
       "      <th>237</th>\n",
       "      <td>TRXA/236/ALA</td>\n",
       "      <td>0.000000</td>\n",
       "      <td>MGA/2/MG</td>\n",
       "      <td>0.349019</td>\n",
       "    </tr>\n",
       "  </tbody>\n",
       "</table>\n",
       "<p>238 rows × 4 columns</p>\n",
       "</div>"
      ],
      "text/plain": [
       "          resname  g_dnab.pdb,1       resname  h_dnaa.pdb,1\n",
       "0        MGB/1/MG     -0.229479    TRXA/1/MET      0.000000\n",
       "1        MGB/2/MG      0.351932    TRXA/2/SER      0.000000\n",
       "2      TRXA/1/MET      0.000000    TRXA/3/GLU      0.000000\n",
       "3      TRXA/2/SER      0.000000    TRXA/4/PRO      0.000000\n",
       "4      TRXA/3/GLU      0.000000    TRXA/5/PRO      0.000000\n",
       "..            ...           ...           ...           ...\n",
       "233  TRXA/232/PRO      0.000000  TRXA/234/LEU      0.000000\n",
       "234  TRXA/233/SER      0.000000  TRXA/235/GLU      0.000000\n",
       "235  TRXA/234/LEU      0.000000  TRXA/236/ALA      0.000000\n",
       "236  TRXA/235/GLU      0.000000      MGA/1/MG     -0.116048\n",
       "237  TRXA/236/ALA      0.000000      MGA/2/MG      0.349019\n",
       "\n",
       "[238 rows x 4 columns]"
      ]
     },
     "execution_count": 14,
     "metadata": {},
     "output_type": "execute_result"
    }
   ],
   "source": [
    "# Initialize an empty list to hold the DataFrames\n",
    "dfs = []\n",
    "\n",
    "# Loop through the CSV files and read each one into a DataFrame\n",
    "for file in csv_files:\n",
    "    df = pd.read_csv(file)\n",
    "    dfs.append(df)\n",
    "\n",
    "# Concatenate all of the DataFrames into a single DataFrame\n",
    "combined_df = pd.concat(dfs, axis=1)\n",
    "\n",
    "combined_df = pd.merge(dfs[0], on='resname')\n",
    "for df in dfs[1:]:\n",
    "    combined_df = pd.merge(combined_df, df, on='resname')\n",
    "\n",
    "combined_df"
   ]
  },
  {
   "cell_type": "code",
   "execution_count": 35,
   "id": "034f84b6-9b52-43dc-8a5b-409925ae1008",
   "metadata": {
    "tags": []
   },
   "outputs": [],
   "source": [
    "# Remove columns with duplicated names\n",
    "combined_df = merged_df.loc[:, ~merged_df.columns.duplicated()]\n",
    "combined_df.fillna(0, inplace=True)\n"
   ]
  },
  {
   "cell_type": "code",
   "execution_count": 31,
   "id": "21e4d6b6-0386-4023-ad8c-9a1d0f73e44f",
   "metadata": {
    "tags": []
   },
   "outputs": [
    {
     "ename": "AttributeError",
     "evalue": "'NoneType' object has no attribute 'set_index'",
     "output_type": "error",
     "traceback": [
      "\u001b[0;31m---------------------------------------------------------------------------\u001b[0m",
      "\u001b[0;31mAttributeError\u001b[0m                            Traceback (most recent call last)",
      "Cell \u001b[0;32mIn [31], line 1\u001b[0m\n\u001b[0;32m----> 1\u001b[0m combined_df \u001b[38;5;241m=\u001b[39m \u001b[43mcombined_df\u001b[49m\u001b[38;5;241;43m.\u001b[39;49m\u001b[43mset_index\u001b[49m(combined_df\u001b[38;5;241m.\u001b[39mcolumns[\u001b[38;5;241m0\u001b[39m])\n\u001b[1;32m      2\u001b[0m combined_df\n",
      "\u001b[0;31mAttributeError\u001b[0m: 'NoneType' object has no attribute 'set_index'"
     ]
    }
   ],
   "source": [
    "combined_df = combined_df.set_index(combined_df.columns[0])\n",
    "combined_df"
   ]
  },
  {
   "cell_type": "code",
   "execution_count": 32,
   "id": "c3fe9819-ddd9-48bc-b331-a91ad08d1fca",
   "metadata": {
    "tags": []
   },
   "outputs": [
    {
     "ename": "AttributeError",
     "evalue": "'NoneType' object has no attribute 'loc'",
     "output_type": "error",
     "traceback": [
      "\u001b[0;31m---------------------------------------------------------------------------\u001b[0m",
      "\u001b[0;31mAttributeError\u001b[0m                            Traceback (most recent call last)",
      "Cell \u001b[0;32mIn [32], line 1\u001b[0m\n\u001b[0;32m----> 1\u001b[0m df_zeroless \u001b[38;5;241m=\u001b[39m \u001b[43mcombined_df\u001b[49m\u001b[38;5;241;43m.\u001b[39;49m\u001b[43mloc\u001b[49m[(combined_df \u001b[38;5;241m!=\u001b[39m\u001b[38;5;241m0\u001b[39m)\u001b[38;5;241m.\u001b[39many(\u001b[38;5;241m1\u001b[39m)]\n",
      "\u001b[0;31mAttributeError\u001b[0m: 'NoneType' object has no attribute 'loc'"
     ]
    }
   ],
   "source": [
    "df_zeroless = combined_df.loc[(combined_df !=0).any(1)]\n",
    "# C = 'c'\n",
    "# df_zeroless = df_zeroless.rename(columns={'g_dnab.pdb,1':\"TREX2A-3'overhang\", 'g_dnaa.pdb,1': \"TREX2B-3'overhang\",'h_dnaa.pdb,1': 'TREX2A-Y-structured DNA'})\n",
    "# df_zeroless.to_csv(root_folder + f\"allframes_zeroless2.csv\")\n",
    "# a = df_zeroless.drop(\"TREX2B-3'overhang\", axis = 1, inplace = False)\n"
   ]
  },
  {
   "cell_type": "code",
   "execution_count": 24,
   "id": "a507ccb9-cabc-4e84-8000-14811e264437",
   "metadata": {
    "tags": []
   },
   "outputs": [
    {
     "data": {
      "text/html": [
       "<div>\n",
       "<style scoped>\n",
       "    .dataframe tbody tr th:only-of-type {\n",
       "        vertical-align: middle;\n",
       "    }\n",
       "\n",
       "    .dataframe tbody tr th {\n",
       "        vertical-align: top;\n",
       "    }\n",
       "\n",
       "    .dataframe thead th {\n",
       "        text-align: right;\n",
       "    }\n",
       "</style>\n",
       "<table border=\"1\" class=\"dataframe\">\n",
       "  <thead>\n",
       "    <tr style=\"text-align: right;\">\n",
       "      <th></th>\n",
       "      <th>resname</th>\n",
       "      <th>g_dnab.pdb,1</th>\n",
       "      <th>resname</th>\n",
       "      <th>h_dnaa.pdb,1</th>\n",
       "    </tr>\n",
       "  </thead>\n",
       "  <tbody>\n",
       "    <tr>\n",
       "      <th>0</th>\n",
       "      <td>MGB/1/MG</td>\n",
       "      <td>-0.229479</td>\n",
       "      <td>TRXA/1/MET</td>\n",
       "      <td>0.000000</td>\n",
       "    </tr>\n",
       "    <tr>\n",
       "      <th>1</th>\n",
       "      <td>MGB/2/MG</td>\n",
       "      <td>0.351932</td>\n",
       "      <td>TRXA/2/SER</td>\n",
       "      <td>0.000000</td>\n",
       "    </tr>\n",
       "    <tr>\n",
       "      <th>2</th>\n",
       "      <td>TRXA/1/MET</td>\n",
       "      <td>0.000000</td>\n",
       "      <td>TRXA/3/GLU</td>\n",
       "      <td>0.000000</td>\n",
       "    </tr>\n",
       "    <tr>\n",
       "      <th>3</th>\n",
       "      <td>TRXA/2/SER</td>\n",
       "      <td>0.000000</td>\n",
       "      <td>TRXA/4/PRO</td>\n",
       "      <td>0.000000</td>\n",
       "    </tr>\n",
       "    <tr>\n",
       "      <th>4</th>\n",
       "      <td>TRXA/3/GLU</td>\n",
       "      <td>0.000000</td>\n",
       "      <td>TRXA/5/PRO</td>\n",
       "      <td>0.000000</td>\n",
       "    </tr>\n",
       "    <tr>\n",
       "      <th>...</th>\n",
       "      <td>...</td>\n",
       "      <td>...</td>\n",
       "      <td>...</td>\n",
       "      <td>...</td>\n",
       "    </tr>\n",
       "    <tr>\n",
       "      <th>233</th>\n",
       "      <td>TRXA/232/PRO</td>\n",
       "      <td>0.000000</td>\n",
       "      <td>TRXA/234/LEU</td>\n",
       "      <td>0.000000</td>\n",
       "    </tr>\n",
       "    <tr>\n",
       "      <th>234</th>\n",
       "      <td>TRXA/233/SER</td>\n",
       "      <td>0.000000</td>\n",
       "      <td>TRXA/235/GLU</td>\n",
       "      <td>0.000000</td>\n",
       "    </tr>\n",
       "    <tr>\n",
       "      <th>235</th>\n",
       "      <td>TRXA/234/LEU</td>\n",
       "      <td>0.000000</td>\n",
       "      <td>TRXA/236/ALA</td>\n",
       "      <td>0.000000</td>\n",
       "    </tr>\n",
       "    <tr>\n",
       "      <th>236</th>\n",
       "      <td>TRXA/235/GLU</td>\n",
       "      <td>0.000000</td>\n",
       "      <td>MGA/1/MG</td>\n",
       "      <td>-0.116048</td>\n",
       "    </tr>\n",
       "    <tr>\n",
       "      <th>237</th>\n",
       "      <td>TRXA/236/ALA</td>\n",
       "      <td>0.000000</td>\n",
       "      <td>MGA/2/MG</td>\n",
       "      <td>0.349019</td>\n",
       "    </tr>\n",
       "  </tbody>\n",
       "</table>\n",
       "<p>238 rows × 4 columns</p>\n",
       "</div>"
      ],
      "text/plain": [
       "          resname  g_dnab.pdb,1       resname  h_dnaa.pdb,1\n",
       "0        MGB/1/MG     -0.229479    TRXA/1/MET      0.000000\n",
       "1        MGB/2/MG      0.351932    TRXA/2/SER      0.000000\n",
       "2      TRXA/1/MET      0.000000    TRXA/3/GLU      0.000000\n",
       "3      TRXA/2/SER      0.000000    TRXA/4/PRO      0.000000\n",
       "4      TRXA/3/GLU      0.000000    TRXA/5/PRO      0.000000\n",
       "..            ...           ...           ...           ...\n",
       "233  TRXA/232/PRO      0.000000  TRXA/234/LEU      0.000000\n",
       "234  TRXA/233/SER      0.000000  TRXA/235/GLU      0.000000\n",
       "235  TRXA/234/LEU      0.000000  TRXA/236/ALA      0.000000\n",
       "236  TRXA/235/GLU      0.000000      MGA/1/MG     -0.116048\n",
       "237  TRXA/236/ALA      0.000000      MGA/2/MG      0.349019\n",
       "\n",
       "[238 rows x 4 columns]"
      ]
     },
     "execution_count": 24,
     "metadata": {},
     "output_type": "execute_result"
    }
   ],
   "source": [
    "df_zeroless"
   ]
  },
  {
   "cell_type": "code",
   "execution_count": 65,
   "id": "242984be-016a-43bc-a4a0-dc22e78a8718",
   "metadata": {
    "jupyter": {
     "source_hidden": true
    },
    "tags": []
   },
   "outputs": [],
   "source": [
    "# fz = 7\n",
    "# fig, ax = plt.subplots(figsize=(7,4))\n",
    "\n",
    "\n",
    "# color_map = ['red','orange','blue'] # 'orange'\n",
    "\n",
    "# # Reverse the order of columns in df_zeroless\n",
    "# reversed_columns = df_zeroless.columns[::-1]\n",
    "\n",
    "# for i, col in enumerate(df_zeroless.columns):\n",
    "#     color = color_map[i % len(color_map)] \n",
    "#     plt.plot(df_zeroless[col], label=col, color=color, marker ='.', alpha = 0.4)#marker = 'h'\n",
    "\n",
    "# ax.set_xlabel(\"Residues\", fontsize = fz)\n",
    "# ax.set_ylabel(\"kcal/mol\", fontsize = fz)\n",
    "# ax.axhline(0.0, color='k', linestyle='dashed', linewidth=0.5)\n",
    "# plt.xticks(rotation=90, fontsize = fz)\n",
    "# plt.legend(loc = 4, fontsize = 8, fancybox = False)\n",
    "# ax.grid(axis='x')\n",
    "# plt.xlim(\"TRXA/13/LEU\",\"MGA/2/MG\")\n",
    "\n",
    "# # Set the y-axis ticks every -0.2 starting from 0 to -2.0\n",
    "# # ticks = np.arange(0, -2.2, -0.25)\n",
    "# # ax.set_yticks(ticks)\n",
    "\n",
    "# # Format the y-axis tick labels as strings\n",
    "# # ticklabels = [str(f'{tick:.2f}') for tick in ticks]\n",
    "# # ax.set_yticklabels(ticklabels)\n",
    "\n",
    "# plt.tight_layout()   \n",
    "\n",
    "# # plt.savefig(f\"{fig_root}dna_compare.png\", dpi = 300, bbox_inches='tight')\n",
    "# plt.show()"
   ]
  },
  {
   "cell_type": "code",
   "execution_count": 19,
   "id": "ba0ff725-db52-4145-b386-e52c03bba140",
   "metadata": {
    "tags": []
   },
   "outputs": [
    {
     "data": {
      "image/png": "[encoded data removed]",
      "text/plain": [
       "<Figure size 504x288 with 1 Axes>"
      ]
     },
     "metadata": {
      "needs_background": "light"
     },
     "output_type": "display_data"
    }
   ],
   "source": [
    "fz = 10\n",
    "fig, ax = plt.subplots(figsize=(7,4))\n",
    "\n",
    "# Define a custom color map\n",
    "# color_map = plt.get_cmap('plasma') #tab10 tab20c prism\n",
    "color_map = plt.cm.get_cmap('tab20c', len(df_zeroless.columns))\n",
    "color_map = color_map.reversed()\n",
    "\n",
    "for i, col in enumerate(df_zeroless.columns):\n",
    "    color = color_map(i)\n",
    "    plt.plot(df_zeroless[col], label=col, color=color, marker ='.')#marker = 'h'\n",
    "\n",
    "ax.set_xlabel(\"Residues\", fontsize = fz)\n",
    "ax.set_ylabel(\"kcal/mol\", fontsize = fz)\n",
    "ax.axhline(0.0, color='k', linestyle='dashed', linewidth=0.5)\n",
    "plt.xticks(rotation=90, fontsize = 6)\n",
    "plt.legend(bbox_to_anchor=(1, 0.85), fontsize = 8)\n",
    "ax.grid(axis='x')\n",
    "plt.xlim(\"TRXA/13/LEU\",\"MGA/2/MG\")\n",
    "\n",
    "# Set the y-axis ticks every -0.2 starting from 0 to -2.0\n",
    "ticks = np.arange(0, -2.2, -0.25)\n",
    "ax.set_yticks(ticks)\n",
    "\n",
    "# Format the y-axis tick labels as strings\n",
    "ticklabels = [str(f'{tick:.2f}') for tick in ticks]\n",
    "ax.set_yticklabels(ticklabels)\n",
    "\n",
    "plt.tight_layout()   \n",
    "\n",
    "# plt.savefig(f\"{fig_root}dna_compare.png\", dpi = 300, bbox_inches='tight')\n",
    "plt.show()"
   ]
  },
  {
   "cell_type": "code",
   "execution_count": 23,
   "id": "d8fa84a4-fab4-4d58-85b5-2e0b5b6b64fc",
   "metadata": {},
   "outputs": [
    {
     "data": {
      "image/png": "[encoded data removed]",
      "text/html": [
       "<div style=\"vertical-align: middle;\"><strong>tab20c_r</strong> </div><div class=\"cmap\"><img alt=\"tab20c_r colormap\" title=\"tab20c_r\" style=\"border: 1px solid #555;\" src=\"data:image/png;base64,iVBORw0KGgoAAAANSUhEUgAAAgAAAABACAYAAABsv8+/AAAAF3RFWHRUaXRsZQB0YWIyMGNfciBjb2xvcm1hcEFhGHsAAAAddEVYdERlc2NyaXB0aW9uAHRhYjIwY19yIGNvbG9ybWFwaB//UgAAADB0RVh0QXV0aG9yAE1hdHBsb3RsaWIgdjMuNS4yLCBodHRwczovL21hdHBsb3RsaWIub3Jnwlp4nAAAADJ0RVh0U29mdHdhcmUATWF0cGxvdGxpYiB2My41LjIsIGh0dHBzOi8vbWF0cGxvdGxpYi5vcmfs/Oe7AAABPElEQVR4nO3WQRGDQADAQKgUFNcGNvrCwqmhEuDFDZNdBXlmHWOcC7zAsfxmJ8Cl777NToBbPrMDAIDnGQAACDIAABBkAAAgyAAAQJABAIAgAwAAQQYAAIIMAAAEGQAACDIAABBkAAAgyAAAQJABAIAgAwAAQQYAAIIMAAAEGQAACDIAABBkAAAgyAAAQJABAIAgAwAAQQYAAIIMAAAEGQAACDIAABBkAAAgyAAAQJABAIAgAwAAQQYAAIIMAAAEGQAACDIAABBkAAAgyAAAQJABAIAgAwAAQQYAAIIMAAAEGQAACDIAABBkAAAgyAAAQJABAIAgAwAAQQYAAIIMAAAEGQAACDIAABBkAAAgyAAAQJABAIAgAwAAQQYAAIIMAAAEGQAACDIAABBkAAAgyAAAQJABAIAgAwAAQX8QHQbv1V55OgAAAABJRU5ErkJggg==\"></div><div style=\"vertical-align: middle; max-width: 514px; display: flex; justify-content: space-between;\"><div style=\"float: left;\"><div title=\"#d9d9d9ff\" style=\"display: inline-block; width: 1em; height: 1em; margin: 0; vertical-align: middle; border: 1px solid #555; background-color: #d9d9d9ff;\"></div> under</div><div style=\"margin: 0 auto; display: inline-block;\">bad <div title=\"#00000000\" style=\"display: inline-block; width: 1em; height: 1em; margin: 0; vertical-align: middle; border: 1px solid #555; background-color: #00000000;\"></div></div><div style=\"float: right;\">over <div title=\"#3182bdff\" style=\"display: inline-block; width: 1em; height: 1em; margin: 0; vertical-align: middle; border: 1px solid #555; background-color: #3182bdff;\"></div></div>"
      ],
      "text/plain": [
       "<matplotlib.colors.ListedColormap at 0x7f35271ffcd0>"
      ]
     },
     "execution_count": 23,
     "metadata": {},
     "output_type": "execute_result"
    }
   ],
   "source": [
    "color_map"
   ]
  }
 ],
 "metadata": {
  "kernelspec": {
   "display_name": "Python 3",
   "language": "python",
   "name": "python3"
  },
  "language_info": {
   "codemirror_mode": {
    "name": "ipython",
    "version": 3
   },
   "file_extension": ".py",
   "mimetype": "text/x-python",
   "name": "python",
   "nbconvert_exporter": "python",
   "pygments_lexer": "ipython3",
   "version": "3.9.13"
  }
 },
 "nbformat": 4,
 "nbformat_minor": 5
}
