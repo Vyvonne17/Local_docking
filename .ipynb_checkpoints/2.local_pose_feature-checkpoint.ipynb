{
 "cells": [
  {
   "cell_type": "code",
   "execution_count": 112,
   "id": "4826a97b",
   "metadata": {
    "tags": []
   },
   "outputs": [],
   "source": [
    "# Parameters\n",
    "trx = \"A\"\n",
    "mg = \"B\"\n",
    "segments = [f\"TRX{trx}\",f\"MG{mg}\"]\n",
    "#nprocs = 4"
   ]
  },
  {
   "cell_type": "code",
   "execution_count": 113,
   "id": "36695b8c-7e7d-41dd-a0c5-eea31d480cf9",
   "metadata": {
    "tags": []
   },
   "outputs": [],
   "source": [
    "import sys"
   ]
  },
  {
   "cell_type": "code",
   "execution_count": 114,
   "id": "e6d4b2eb-78d7-4112-8a1f-c0c5d4434222",
   "metadata": {
    "tags": []
   },
   "outputs": [],
   "source": [
    "sys.path\n",
    "sys.path.append('/home/yvonne/Desktop/docking_result')"
   ]
  },
  {
   "cell_type": "code",
   "execution_count": 115,
   "id": "47d91856-326b-43b2-acf9-2f62569cb085",
   "metadata": {
    "tags": []
   },
   "outputs": [
    {
     "data": {
      "text/plain": [
       "['/home/yvonne/Desktop/docking_result/5.dna_pli',\n",
       " '/home/yvonne/miniconda3/envs/edaf/lib/python39.zip',\n",
       " '/home/yvonne/miniconda3/envs/edaf/lib/python3.9',\n",
       " '/home/yvonne/miniconda3/envs/edaf/lib/python3.9/lib-dynload',\n",
       " '',\n",
       " '/home/yvonne/miniconda3/envs/edaf/lib/python3.9/site-packages',\n",
       " '/home/yvonne/Desktop/docking_result',\n",
       " '/home/yvonne/Desktop/docking_result',\n",
       " '/home/yvonne/Desktop/docking_result',\n",
       " '/home/yvonne/Desktop/docking_result',\n",
       " '/home/yvonne/Desktop/docking_result',\n",
       " '/home/yvonne/Desktop/docking_result',\n",
       " '/home/yvonne/Desktop/docking_result']"
      ]
     },
     "execution_count": 115,
     "metadata": {},
     "output_type": "execute_result"
    }
   ],
   "source": [
    "sys.path"
   ]
  },
  {
   "cell_type": "code",
   "execution_count": 116,
   "id": "e8fb586e-2355-4902-9341-c17cf288cc56",
   "metadata": {
    "tags": []
   },
   "outputs": [
    {
     "name": "stdout",
     "output_type": "stream",
     "text": [
      "/home/yvonne/Desktop/docking_result/5.dna_pli\n"
     ]
    }
   ],
   "source": [
    "!pwd"
   ]
  },
  {
   "cell_type": "code",
   "execution_count": 117,
   "id": "30b25448",
   "metadata": {
    "tags": []
   },
   "outputs": [],
   "source": [
    "from numpy import exp\n",
    "import gzip\n",
    "import shutil\n",
    "import subprocess\n",
    "import re\n",
    "import pandas as pd\n",
    "import time\n",
    "import os\n",
    "import os.path\n",
    "from multiprocessing.pool import ThreadPool\n",
    "from openbabel import pybel\n",
    "import tarfile\n",
    "import glob\n",
    "import shutil\n",
    "from rdkit.Chem import PandasTools\n",
    "from collections import OrderedDict\n",
    "from PLI import amino_acid, analysis, interaction, license, io"
   ]
  },
  {
   "cell_type": "code",
   "execution_count": 118,
   "id": "e2ca7b5c-6944-4f25-bada-9b3da45458eb",
   "metadata": {
    "tags": []
   },
   "outputs": [],
   "source": [
    "file = \"guanA\"\n",
    "pro_n = \"g_trxa\"\n",
    "lig_n = \"g_dnab\""
   ]
  },
  {
   "cell_type": "code",
   "execution_count": 119,
   "id": "f8fc821a-ba47-44eb-86d0-ee1cc2e15184",
   "metadata": {
    "tags": []
   },
   "outputs": [],
   "source": [
    "root_folder = \"/home/yvonne/Desktop/docking_result/5.dna_pli\"\n",
    "root_file = f'{file}_pli'\n",
    "rep_file = f\"{pro_n}.pdb\"\n",
    "lig_file = f\"{lig_n}.sdf\"\n",
    "i = \"input\"\n",
    "o = \"output\"\n",
    "l = \"log\""
   ]
  },
  {
   "cell_type": "code",
   "execution_count": 120,
   "id": "138a4f3e-4639-42d0-a2e7-0c7f3ce77f1d",
   "metadata": {
    "tags": []
   },
   "outputs": [],
   "source": [
    "i_path=f'{root_folder}/{root_file}/{i}'\n",
    "o_path=f'{root_folder}/{root_file}/{o}'\n",
    "l_path=f'{root_folder}/{root_file}/{l}'\n",
    "receptor=f'{root_folder}/{root_file}/{rep_file}'\n",
    "ligand_file=f'{root_folder}/{root_file}/{lig_file}'"
   ]
  },
  {
   "cell_type": "code",
   "execution_count": 121,
   "id": "d9ff1363-9deb-47d5-b168-74a1e827b7d3",
   "metadata": {
    "tags": []
   },
   "outputs": [
    {
     "data": {
      "text/plain": [
       "'/home/yvonne/Desktop/docking_result/5.dna_pli/guanA_pli/g_dnab.sdf'"
      ]
     },
     "execution_count": 121,
     "metadata": {},
     "output_type": "execute_result"
    }
   ],
   "source": [
    "ligand_file"
   ]
  },
  {
   "cell_type": "code",
   "execution_count": 122,
   "id": "1141d349",
   "metadata": {
    "scrolled": true,
    "tags": []
   },
   "outputs": [],
   "source": [
    "os.makedirs(i_path, exist_ok=True)   #\n",
    "os.makedirs(o_path, exist_ok = True)  # \n",
    "os.makedirs(l_path, exist_ok = True)     #\n",
    "## Get sdf stuff\n",
    "ligands = PandasTools.LoadSDF(ligand_file, molColName=None) # Do not show Mol figure \n",
    "\n",
    "# Convert sdf to pdbqt\n",
    "ligandlist = []\n",
    "for m in pybel.readfile(\"sdf\", ligand_file):\n",
    "        t0 = m.data[\"Mode\"]\n",
    "        m.write(\"pdbqt\", f\"{i_path}/{m.title}_{t0}.pdbqt\", overwrite=True)\n",
    "        ligandlist.append(f\"{m.title}_{t0}\")\n",
    "ligands = ligands[[\"ID\", \"Mode\", \"Score\", \"RMSD_LB\", \"RMSD_UB\"]]"
   ]
  },
  {
   "cell_type": "code",
   "execution_count": 123,
   "id": "8448fb8c-fdad-4845-b30f-f57720b5bf2d",
   "metadata": {
    "tags": []
   },
   "outputs": [
    {
     "data": {
      "text/html": [
       "<div>\n",
       "<style scoped>\n",
       "    .dataframe tbody tr th:only-of-type {\n",
       "        vertical-align: middle;\n",
       "    }\n",
       "\n",
       "    .dataframe tbody tr th {\n",
       "        vertical-align: top;\n",
       "    }\n",
       "\n",
       "    .dataframe thead th {\n",
       "        text-align: right;\n",
       "    }\n",
       "</style>\n",
       "<table border=\"1\" class=\"dataframe\">\n",
       "  <thead>\n",
       "    <tr style=\"text-align: right;\">\n",
       "      <th></th>\n",
       "      <th>ID</th>\n",
       "      <th>Mode</th>\n",
       "      <th>Score</th>\n",
       "      <th>RMSD_LB</th>\n",
       "      <th>RMSD_UB</th>\n",
       "    </tr>\n",
       "  </thead>\n",
       "  <tbody>\n",
       "    <tr>\n",
       "      <th>0</th>\n",
       "      <td>g_dnab.pdb</td>\n",
       "      <td>1</td>\n",
       "      <td>0</td>\n",
       "      <td>0.0</td>\n",
       "      <td>0.0</td>\n",
       "    </tr>\n",
       "  </tbody>\n",
       "</table>\n",
       "</div>"
      ],
      "text/plain": [
       "           ID Mode Score RMSD_LB RMSD_UB\n",
       "0  g_dnab.pdb    1     0     0.0     0.0"
      ]
     },
     "execution_count": 123,
     "metadata": {},
     "output_type": "execute_result"
    }
   ],
   "source": [
    "ligands"
   ]
  },
  {
   "cell_type": "code",
   "execution_count": 124,
   "id": "6ba50464",
   "metadata": {
    "tags": []
   },
   "outputs": [
    {
     "name": "stderr",
     "output_type": "stream",
     "text": [
      "/home/yvonne/miniconda3/envs/edaf/lib/python3.9/site-packages/MDAnalysis/topology/PDBParser.py:345: UserWarning: Unknown element  found for some atoms. These have been given an empty element record. If needed they can be guessed using MDAnalysis.topology.guessers.\n",
      "  warnings.warn(wmsg)\n",
      "/home/yvonne/miniconda3/envs/edaf/lib/python3.9/site-packages/MDAnalysis/topology/guessers.py:146: UserWarning: Failed to guess the mass for the following atom types: \n",
      "  warnings.warn(\"Failed to guess the mass for the following atom types: {}\".format(atom_type))\n",
      "/home/yvonne/miniconda3/envs/edaf/lib/python3.9/site-packages/MDAnalysis/coordinates/PDB.py:432: UserWarning: 1 A^3 CRYST1 record, this is usually a placeholder. Unit cell dimensions will be set to None.\n",
      "  warnings.warn(\"1 A^3 CRYST1 record,\"\n"
     ]
    }
   ],
   "source": [
    "segid = segments\n",
    "prot = amino_acid.read_protein_all_atom_model(receptor, segid)\n",
    "\n",
    "intro_message = \"Date: {}   Creator: {}\\n\".format(time.asctime(), os.getenv('USER'))\n",
    "intro_message += license.intro()\n",
    "\n",
    "\n",
    "##\n",
    "t0 = []\n",
    "t1 = []\n",
    "t2 = []\n",
    "t3 = []\n",
    "t4 = []\n",
    "t5 = []\n",
    "for r in prot.residues:\n",
    "    segid = r.segid\n",
    "    resid = r.resid\n",
    "    resn = r.resn\n",
    "    for a in r.atoms:\n",
    "        id = a.id  ## 2022/08/16 amended by Bruce\n",
    "        name = a.name \n",
    "        type = a.type\n",
    "        t0.append(segid)\n",
    "        t1.append(resid)\n",
    "        t2.append(resn)\n",
    "        t3.append(name)\n",
    "        t4.append(type)\n",
    "        t5.append(id)\n",
    "atomlist = pd.DataFrame([t5, t0, t1, t2, t3, t4], index=[\"id\", \"segid\", \"resid\", \"resn\", \"name\", \"type\"]).T"
   ]
  },
  {
   "cell_type": "code",
   "execution_count": 125,
   "id": "e31499ff-cc69-4ec8-ad48-7e797dfe51dc",
   "metadata": {
    "tags": []
   },
   "outputs": [
    {
     "data": {
      "text/html": [
       "<div>\n",
       "<style scoped>\n",
       "    .dataframe tbody tr th:only-of-type {\n",
       "        vertical-align: middle;\n",
       "    }\n",
       "\n",
       "    .dataframe tbody tr th {\n",
       "        vertical-align: top;\n",
       "    }\n",
       "\n",
       "    .dataframe thead th {\n",
       "        text-align: right;\n",
       "    }\n",
       "</style>\n",
       "<table border=\"1\" class=\"dataframe\">\n",
       "  <thead>\n",
       "    <tr style=\"text-align: right;\">\n",
       "      <th></th>\n",
       "      <th>id</th>\n",
       "      <th>segid</th>\n",
       "      <th>resid</th>\n",
       "      <th>resn</th>\n",
       "      <th>name</th>\n",
       "      <th>type</th>\n",
       "    </tr>\n",
       "  </thead>\n",
       "  <tbody>\n",
       "    <tr>\n",
       "      <th>0</th>\n",
       "      <td>1</td>\n",
       "      <td>MGB</td>\n",
       "      <td>1</td>\n",
       "      <td>MG</td>\n",
       "      <td>MG</td>\n",
       "      <td>Met</td>\n",
       "    </tr>\n",
       "    <tr>\n",
       "      <th>1</th>\n",
       "      <td>2</td>\n",
       "      <td>MGB</td>\n",
       "      <td>2</td>\n",
       "      <td>MG</td>\n",
       "      <td>MG</td>\n",
       "      <td>Met</td>\n",
       "    </tr>\n",
       "    <tr>\n",
       "      <th>2</th>\n",
       "      <td>3</td>\n",
       "      <td>TRXA</td>\n",
       "      <td>1</td>\n",
       "      <td>MET</td>\n",
       "      <td>N</td>\n",
       "      <td>NH3</td>\n",
       "    </tr>\n",
       "    <tr>\n",
       "      <th>3</th>\n",
       "      <td>4</td>\n",
       "      <td>TRXA</td>\n",
       "      <td>1</td>\n",
       "      <td>MET</td>\n",
       "      <td>CA</td>\n",
       "      <td>CT1</td>\n",
       "    </tr>\n",
       "    <tr>\n",
       "      <th>4</th>\n",
       "      <td>5</td>\n",
       "      <td>TRXA</td>\n",
       "      <td>1</td>\n",
       "      <td>MET</td>\n",
       "      <td>C</td>\n",
       "      <td>C</td>\n",
       "    </tr>\n",
       "    <tr>\n",
       "      <th>...</th>\n",
       "      <td>...</td>\n",
       "      <td>...</td>\n",
       "      <td>...</td>\n",
       "      <td>...</td>\n",
       "      <td>...</td>\n",
       "      <td>...</td>\n",
       "    </tr>\n",
       "    <tr>\n",
       "      <th>3595</th>\n",
       "      <td>3601</td>\n",
       "      <td>TRXA</td>\n",
       "      <td>236</td>\n",
       "      <td>ALA</td>\n",
       "      <td>HN</td>\n",
       "      <td>H</td>\n",
       "    </tr>\n",
       "    <tr>\n",
       "      <th>3596</th>\n",
       "      <td>3602</td>\n",
       "      <td>TRXA</td>\n",
       "      <td>236</td>\n",
       "      <td>ALA</td>\n",
       "      <td>HA</td>\n",
       "      <td>CT1</td>\n",
       "    </tr>\n",
       "    <tr>\n",
       "      <th>3597</th>\n",
       "      <td>3603</td>\n",
       "      <td>TRXA</td>\n",
       "      <td>236</td>\n",
       "      <td>ALA</td>\n",
       "      <td>HB1</td>\n",
       "      <td>HA3</td>\n",
       "    </tr>\n",
       "    <tr>\n",
       "      <th>3598</th>\n",
       "      <td>3604</td>\n",
       "      <td>TRXA</td>\n",
       "      <td>236</td>\n",
       "      <td>ALA</td>\n",
       "      <td>HB2</td>\n",
       "      <td>HA3</td>\n",
       "    </tr>\n",
       "    <tr>\n",
       "      <th>3599</th>\n",
       "      <td>3605</td>\n",
       "      <td>TRXA</td>\n",
       "      <td>236</td>\n",
       "      <td>ALA</td>\n",
       "      <td>HB3</td>\n",
       "      <td>HA3</td>\n",
       "    </tr>\n",
       "  </tbody>\n",
       "</table>\n",
       "<p>3600 rows × 6 columns</p>\n",
       "</div>"
      ],
      "text/plain": [
       "        id segid resid resn name type\n",
       "0        1   MGB     1   MG   MG  Met\n",
       "1        2   MGB     2   MG   MG  Met\n",
       "2        3  TRXA     1  MET    N  NH3\n",
       "3        4  TRXA     1  MET   CA  CT1\n",
       "4        5  TRXA     1  MET    C    C\n",
       "...    ...   ...   ...  ...  ...  ...\n",
       "3595  3601  TRXA   236  ALA   HN    H\n",
       "3596  3602  TRXA   236  ALA   HA  CT1\n",
       "3597  3603  TRXA   236  ALA  HB1  HA3\n",
       "3598  3604  TRXA   236  ALA  HB2  HA3\n",
       "3599  3605  TRXA   236  ALA  HB3  HA3\n",
       "\n",
       "[3600 rows x 6 columns]"
      ]
     },
     "execution_count": 125,
     "metadata": {},
     "output_type": "execute_result"
    }
   ],
   "source": [
    "atomlist"
   ]
  },
  {
   "cell_type": "code",
   "execution_count": 126,
   "id": "e328b4bf-eb2b-41bb-acad-eb921f5e8ae9",
   "metadata": {
    "tags": []
   },
   "outputs": [],
   "source": [
    "d_rid_table = dict()\n",
    "for row in atomlist.iterrows():\n",
    "    key = (row[1]['segid'], row[1]['resid'], row[1]['resn'], row[1]['name'])\n",
    "    d_rid_table[key] =  row[1]['id']"
   ]
  },
  {
   "cell_type": "code",
   "execution_count": 127,
   "id": "3f95527e",
   "metadata": {
    "tags": []
   },
   "outputs": [
    {
     "name": "stderr",
     "output_type": "stream",
     "text": [
      "/home/yvonne/miniconda3/envs/edaf/lib/python3.9/site-packages/MDAnalysis/topology/guessers.py:146: UserWarning: Failed to guess the mass for the following atom types: A\n",
      "  warnings.warn(\"Failed to guess the mass for the following atom types: {}\".format(atom_type))\n",
      "/home/yvonne/miniconda3/envs/edaf/lib/python3.9/site-packages/MDAnalysis/topology/guessers.py:146: UserWarning: Failed to guess the mass for the following atom types: HD\n",
      "  warnings.warn(\"Failed to guess the mass for the following atom types: {}\".format(atom_type))\n",
      "/home/yvonne/miniconda3/envs/edaf/lib/python3.9/site-packages/MDAnalysis/topology/guessers.py:146: UserWarning: Failed to guess the mass for the following atom types: OA\n",
      "  warnings.warn(\"Failed to guess the mass for the following atom types: {}\".format(atom_type))\n"
     ]
    }
   ],
   "source": [
    "ligAtomList = []\n",
    "interactionList = []\n",
    "for ligand in ligandlist:\n",
    "    input = f'{i_path}/{ligand}.pdbqt'\n",
    "    output = f'{l_path}/{ligand}.csv'\n",
    "    log = f'{l_path}/{ligand}.log'\n",
    "    # log = os.path.join(root_folder, l, f'{ligand}.log')\n",
    "    # input = os.path.abspath(f\"input/{ligand}.pdbqt\")\n",
    "    # output = os.path.abspath(f\"output/{ligand}.csv\")\n",
    "    # log = os.path.abspath(f\"log/{ligand}.log\")\n",
    "    \n",
    "    \n",
    "    # file = open(log, 'w', encoding='UTF-8')\n",
    "    file = open(log, 'w', encoding='UTF-8')       #amend\n",
    "    lig = amino_acid.read_atom_group(input)\n",
    "\n",
    "    main_message = \"\"\n",
    "    all_interaction = []\n",
    "\n",
    "    # Calculate steric interaction\n",
    "    steric_main, steric_side, msg = interaction.steric_interaction(prot, lig, log=True)\n",
    "    all_interaction.append(steric_main)\n",
    "    all_interaction.append(steric_side)\n",
    "    main_message += msg\n",
    "\n",
    "    # Calculate hydrophobic interaction\n",
    "    hydrophobic_main, hydrophobic_side, msg = interaction.hydrophobic_interaction(prot, lig, log=True)\n",
    "    all_interaction.append(hydrophobic_main)\n",
    "    all_interaction.append(hydrophobic_side)\n",
    "    main_message += msg\n",
    "\n",
    "    # Calculate hbond interaction\n",
    "    hbond_main, hbond_side, msg = interaction.hbond_interaction(prot, lig, log=True)\n",
    "    all_interaction.append(hbond_main)\n",
    "    all_interaction.append(hbond_side)\n",
    "    main_message += msg\n",
    "\n",
    "    all_interaction.reverse()\n",
    "    features = OrderedDict()\n",
    "    \n",
    "    # Generate interaction table\n",
    "    for index, types in enumerate([\"steric\", \"hydrophobic\", \"hbond\"]):\n",
    "        for pose in interaction.list_of_interaction()[types]:\n",
    "            features[pose] = all_interaction.pop()\n",
    "            \n",
    "    table = analysis.create_feature_table(**features)\n",
    "    table.to_csv(output, float_format='%.5f', index=False)\n",
    "    \n",
    "    main_message += \"\\n\\nDate: {}\\n\".format(time.asctime())\n",
    "    file.write(intro_message + main_message)\n",
    "    file.close()\n",
    "    \n",
    "    #\n",
    "    t1 = []\n",
    "    t3 = []\n",
    "    t4 = []\n",
    "    t5 = []\n",
    "\n",
    "    for a in lig.atoms:\n",
    "        id = int(a.index) \n",
    "        name = a.name \n",
    "        type = a.type\n",
    "        t3.append(name)\n",
    "        t4.append(type)\n",
    "        t5.append(id)\n",
    "    t1 = pd.DataFrame([t5, t3, t4], index=[\"id\", \"name\", \"type\"]).T\n",
    "    ligAtomList.append(t1)\n",
    "    \n",
    "    #\n",
    "    st = table.filter(like=\"Steric\").sum(axis=1)\n",
    "    hy = table.filter(like=\"Hydrophobic\").sum(axis=1)\n",
    "    hb = table.filter(like=\"H-bond\").sum(axis=1)\n",
    "    surface_d = table.Surface_d\n",
    "    lid = ((table[\"PairJ\"].str.extract(r'.*[a-zA-Z]([0-9]+)')).astype(int) + 1)[0]\n",
    "    t = zip(list(table[\"Segid\"]), list(table[\"Resid\"]), list(table[\"Resn\"]), list(table[\"PairI\"]))\n",
    "    \n",
    "    #ammemded by yizao\n",
    "    rid = list()\n",
    "    for x in t:\n",
    "        key = (x[0], x[1], x[2], x[3])\n",
    "        rid.append(d_rid_table[key])\n",
    "        \n",
    "        #if (x[0] == 'TRXB') & (x[1]==14) & (x[2]=='ASP') & (x[3]=='OD1'):\n",
    "        #    print(d_rid_table[key])\n",
    "    #rid = pd.DataFrame(rid)[0]  #####Something really wrong here!!!!!!!!!!!!!!!!!!!!!!!!!!!!!!!!!!!!!!!!!!!!!!!!!!!!!!!!!!!!\n",
    "    \n",
    "    d_result = {'lid': lid, 'rid': rid, 'st': st, 'hy': hy, 'hb': hb, 'surface_d': surface_d}\n",
    "    df_final = pd.DataFrame(d_result)\n",
    "    interactionList.append(df_final)\n",
    "    \n",
    "    #rid = range(len(lid))\n",
    "    #rid = pd.DataFrame([int(atomlist[(atomlist[\"segid\"] == x[0]) & (atomlist[\"resid\"] == x[1]) & (atomlist[\"name\"] == x[2])].head(1)[\"id\"]) for x in t])[0]\n",
    "    #interactionList.append(pd.DataFrame([lid, rid, st, hy, hb, surface_d], index=[\"lid\", \"rid\", \"st\", \"hy\", \"hb\", \"surface_d\"]).T)"
   ]
  },
  {
   "cell_type": "code",
   "execution_count": 128,
   "id": "172d03a8",
   "metadata": {
    "tags": []
   },
   "outputs": [
    {
     "name": "stderr",
     "output_type": "stream",
     "text": [
      "<ipython-input-128-02f01ba132ad>:2: PerformanceWarning: \n",
      "your performance may suffer as PyTables will pickle object types that it cannot\n",
      "map directly to c-types [inferred_type->mixed-integer,key->block0_values] [items->Index(['id', 'segid', 'resid', 'resn', 'name', 'type'], dtype='object')]\n",
      "\n",
      "  store[\"receptor/atoms\"] = atomlist\n",
      "/home/yvonne/miniconda3/envs/edaf/lib/python3.9/site-packages/tables/path.py:155: NaturalNameWarning: object name is not a valid Python identifier: 'g_dnab.pdb,1'; it does not match the pattern ``^[a-zA-Z_][a-zA-Z0-9_]*$``; you will not be able to use natural naming to access this object; using ``getattr()`` will still work, though\n",
      "  check_attribute_name(name)\n",
      "<ipython-input-128-02f01ba132ad>:6: PerformanceWarning: \n",
      "your performance may suffer as PyTables will pickle object types that it cannot\n",
      "map directly to c-types [inferred_type->mixed-integer,key->block0_values] [items->Index(['id', 'name', 'type'], dtype='object')]\n",
      "\n",
      "  store[t + \"/atoms\"] = m\n"
     ]
    }
   ],
   "source": [
    "store = pd.HDFStore(f\"{root_folder}/{root_file}/score.h5\")\n",
    "store[\"receptor/atoms\"] = atomlist\n",
    "\n",
    "for (index, row), m, n in zip(ligands.iterrows(), ligAtomList, interactionList):\n",
    "    t = \"ligands/\" + str(row[\"ID\"] + \",\" + str(row[\"Mode\"]))\n",
    "    store[t + \"/atoms\"] = m\n",
    "    store[t + \"/interaction\"] = n\n",
    "\n",
    "store.keys()\n",
    "store.close()"
   ]
  },
  {
   "cell_type": "code",
   "execution_count": 18,
   "id": "a1a55dd0",
   "metadata": {},
   "outputs": [],
   "source": [
    "# # Archive log files\n",
    "# tar = tarfile.open(\"log.tar.gz\", \"w:gz\")\n",
    "# tar.add(\"log\", arcname=os.path.basename(\"log\"))\n",
    "# tar.close()"
   ]
  },
  {
   "cell_type": "code",
   "execution_count": 19,
   "id": "c7977643",
   "metadata": {
    "tags": []
   },
   "outputs": [],
   "source": [
    "#shutil.rmtree(\"input\")\n",
    "#shutil.rmtree(\"output\")\n",
    "#shutil.rmtree(\"log\")\n",
    "#os.remove(\"receptor.pdb\")\n",
    "#os.remove(\"ligands.sdf\")"
   ]
  }
 ],
 "metadata": {
  "kernelspec": {
   "display_name": "Python 3",
   "language": "python",
   "name": "python3"
  },
  "language_info": {
   "codemirror_mode": {
    "name": "ipython",
    "version": 3
   },
   "file_extension": ".py",
   "mimetype": "text/x-python",
   "name": "python",
   "nbconvert_exporter": "python",
   "pygments_lexer": "ipython3",
   "version": "3.9.13"
  }
 },
 "nbformat": 4,
 "nbformat_minor": 5
}
